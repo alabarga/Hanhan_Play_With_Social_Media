{
 "cells": [
  {
   "cell_type": "code",
   "execution_count": 1,
   "metadata": {},
   "outputs": [],
   "source": [
    "# Here, I'm going to get a list of DEF CON Youtube videos, and use Linear Optimization to select videos for myself\n",
    "## install google python API: https://developers.google.com/api-client-library/python/\n",
    "\n",
    "from googleapiclient.discovery import build\n",
    "from googleapiclient.errors import HttpError"
   ]
  },
  {
   "cell_type": "code",
   "execution_count": 2,
   "metadata": {
    "collapsed": true
   },
   "outputs": [],
   "source": [
    "# steps to get API Key: https://developers.google.com/youtube/v3/getting-started\n",
    "\n",
    "API_KEY = \"[your API KEY]\"   # use your own API key\n",
    "YOUTUBE_API_SERVICE_NAME = 'youtube'\n",
    "YOUTUBE_API_VERSION = 'v3'"
   ]
  },
  {
   "cell_type": "code",
   "execution_count": 35,
   "metadata": {},
   "outputs": [],
   "source": [
    "# Get videos, channel, playlists that match your search term\n",
    "def youtube_search(search_query, max_results):\n",
    "    youtube = build(YOUTUBE_API_SERVICE_NAME, YOUTUBE_API_VERSION,\n",
    "        developerKey=API_KEY)\n",
    "\n",
    "    # Call the search.list method to search specified query\n",
    "    search_response = youtube.search().list(\n",
    "        q=search_query,\n",
    "        part='id,snippet',\n",
    "        maxResults=max_results\n",
    "      ).execute()\n",
    "\n",
    "    videos = []\n",
    "    channels = []\n",
    "    playlists = []\n",
    "\n",
    "    # You can print out search_response here and read it through JSON viewer: http://jsonviewer.stack.hu/\n",
    "    for search_result in search_response.get('items', []):\n",
    "        if search_result['id']['kind'] == 'youtube#video':\n",
    "            videos.append('%s (%s)' % (search_result['snippet']['title'],\n",
    "                                         search_result['id']['videoId']))\n",
    "        elif search_result['id']['kind'] == 'youtube#channel':\n",
    "            channels.append('%s (%s)' % (search_result['snippet']['title'],\n",
    "                                           search_result['id']['channelId']))\n",
    "        elif search_result['id']['kind'] == 'youtube#playlist':\n",
    "            playlists.append('%s (%s)' % (search_result['snippet']['title'],\n",
    "                                            search_result['id']['playlistId']))\n",
    "    return videos, channels, playlists"
   ]
  },
  {
   "cell_type": "code",
   "execution_count": 36,
   "metadata": {},
   "outputs": [],
   "source": [
    "search_query = 'DEF CON 25 SE'\n",
    "max_results = 7\n",
    "\n",
    "vlst, clst, plst = youtube_search(search_query, max_results)"
   ]
  },
  {
   "cell_type": "code",
   "execution_count": 37,
   "metadata": {},
   "outputs": [
    {
     "name": "stdout",
     "output_type": "stream",
     "text": [
      "6 1 0\n"
     ]
    }
   ],
   "source": [
    "print len(vlst), len(clst), len(plst)"
   ]
  },
  {
   "cell_type": "code",
   "execution_count": 38,
   "metadata": {},
   "outputs": [
    {
     "name": "stdout",
     "output_type": "stream",
     "text": [
      "DEF CON 25 SE Village - Keith Conway, Cameron Craig - Change Agents  How to Affect  Corp. Culture (mYRXlCGMP0Q)\n",
      "DEF CON 25 SE Village - John Nye -The Human Factor  Why Are We So Bad at Security (MgXhjUzi_I0)\n",
      "DEF CON 25 - Max Bazaliy - Jailbreaking Apple Watch (eJpbi-Qz6Jc)\n",
      "DEF CON 25 - SupaFraud - Official DEF CON Teaser Video (FNtVqHaWFbU)\n",
      "DEF CON 24 ▶︎ Jayson E. Street's Life As A Traveling Penetration Tester (npaVgQxYUbQ)\n",
      "DEF CON 24 SE Village - Mattias Borg - SCAM CALL : Call Dropped (1zTsfs4Q6IY)\n",
      "\n",
      "DEFCONConference (UC6Om9kAkl32dWlDSNlDS9Iw)\n",
      "\n"
     ]
    }
   ],
   "source": [
    "for elem in vlst:\n",
    "    print elem\n",
    "print\n",
    "    \n",
    "for elem in clst:\n",
    "    print elem\n",
    "print\n",
    "    \n",
    "for elem in plst:\n",
    "    print elem"
   ]
  },
  {
   "cell_type": "code",
   "execution_count": 52,
   "metadata": {},
   "outputs": [
    {
     "name": "stdout",
     "output_type": "stream",
     "text": [
      "view_count 1075\n",
      "description It’s no secret that trying to change corporate culture is hard. This is primarily due to the fact that large corporations are complex systems and fundamentally averse to change. This reluctance is rooted in a systematic misalignment of shared vision, shared values, and shared culture within the organization. This talk defines a new method of business transformation by illustrating how to effectively influence corporate cultures towards collective action. To achieve that end, we outline an iterative framework along three main vectors: assess the people and environment, craft a narrative, then utilize timing to deliver your message for maximum impact. If you have ever been frustrated by a lack of political will within your own organization, come and join us. You will learn how to become a change agent yourself, how to create other change agents, then finally how to transform your corporation into a change agent.\n",
      "comment_count 2\n",
      "like_count 29\n",
      "duration PT46M13S\n",
      "favorite_count 0\n"
     ]
    }
   ],
   "source": [
    "def videos_list_by_id(**kwargs):\n",
    "    youtube = build(YOUTUBE_API_SERVICE_NAME, YOUTUBE_API_VERSION,\n",
    "        developerKey=API_KEY)\n",
    "    result = youtube.videos().list(**kwargs).execute().get('items')[0]\n",
    "\n",
    "    comment_count = result['statistics']['commentCount']\n",
    "    view_count = result['statistics']['viewCount']\n",
    "    favorite_count = result['statistics']['favoriteCount']\n",
    "    like_count = result['statistics']['likeCount']\n",
    "    description = result['snippet']['localized']['description']\n",
    "    duration = result['contentDetails']['duration']\n",
    "    return {'comment_count':comment_count, 'view_count':view_count, 'favorite_count':favorite_count,\n",
    "           'like_count':like_count, 'description':description, 'duration':duration}\n",
    "\n",
    "item_dct = videos_list_by_id(part='snippet,contentDetails,statistics', id='mYRXlCGMP0Q')\n",
    "\n",
    "for k,v in item_dct.items():\n",
    "    print k,v"
   ]
  }
 ],
 "metadata": {
  "kernelspec": {
   "display_name": "Python 2",
   "language": "python",
   "name": "python2"
  },
  "language_info": {
   "codemirror_mode": {
    "name": "ipython",
    "version": 2
   },
   "file_extension": ".py",
   "mimetype": "text/x-python",
   "name": "python",
   "nbconvert_exporter": "python",
   "pygments_lexer": "ipython2",
   "version": "2.7.13"
  }
 },
 "nbformat": 4,
 "nbformat_minor": 2
}
