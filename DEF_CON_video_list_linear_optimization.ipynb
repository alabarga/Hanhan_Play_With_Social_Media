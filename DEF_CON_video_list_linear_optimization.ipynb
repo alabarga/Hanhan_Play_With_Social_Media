{
 "cells": [
  {
   "cell_type": "code",
   "execution_count": 1,
   "metadata": {
    "collapsed": true
   },
   "outputs": [],
   "source": [
    "# Here, I'm going to get a list of DEF CON Youtube videos, and use Linear Optimization to select videos for myself\n",
    "## install google python API: https://developers.google.com/api-client-library/python/\n",
    "\n",
    "from googleapiclient.discovery import build\n",
    "from googleapiclient.errors import HttpError\n",
    "import pandas as pd"
   ]
  },
  {
   "cell_type": "code",
   "execution_count": 3,
   "metadata": {
    "collapsed": true
   },
   "outputs": [],
   "source": [
    "# steps to get API Key: https://developers.google.com/youtube/v3/getting-started\n",
    "\n",
    "API_KEY = \"[YOU API KEY]\"   # use your own API key\n",
    "YOUTUBE_API_SERVICE_NAME = 'youtube'\n",
    "YOUTUBE_API_VERSION = 'v3'"
   ]
  },
  {
   "cell_type": "code",
   "execution_count": 4,
   "metadata": {
    "collapsed": true
   },
   "outputs": [],
   "source": [
    "# Get videos, channel, playlists that match your search term\n",
    "def youtube_search(search_query, max_results):\n",
    "    youtube = build(YOUTUBE_API_SERVICE_NAME, YOUTUBE_API_VERSION,\n",
    "        developerKey=API_KEY)\n",
    "\n",
    "    # Call the search.list method to search specified query\n",
    "    search_response = youtube.search().list(\n",
    "        q=search_query,\n",
    "        part='id,snippet',\n",
    "        maxResults=max_results\n",
    "      ).execute()\n",
    "\n",
    "    videos = []\n",
    "    channels = []\n",
    "    playlists = []\n",
    "\n",
    "    # You can print out search_response here and read it through JSON viewer: http://jsonviewer.stack.hu/\n",
    "    for search_result in search_response.get('items', []):\n",
    "        if search_result['id']['kind'] == 'youtube#video':\n",
    "            videos.append('%s (%s)' % (search_result['snippet']['title'],\n",
    "                                         search_result['id']['videoId']))\n",
    "        elif search_result['id']['kind'] == 'youtube#channel':\n",
    "            channels.append('%s (%s)' % (search_result['snippet']['title'],\n",
    "                                           search_result['id']['channelId']))\n",
    "        elif search_result['id']['kind'] == 'youtube#playlist':\n",
    "            playlists.append('%s (%s)' % (search_result['snippet']['title'],\n",
    "                                            search_result['id']['playlistId']))\n",
    "    return videos, channels, playlists"
   ]
  },
  {
   "cell_type": "code",
   "execution_count": 5,
   "metadata": {
    "collapsed": true
   },
   "outputs": [],
   "source": [
    "search_query = 'DEF CON 25 SE'\n",
    "max_results = 50  # at most 50, limited by Google\n",
    "\n",
    "vlst, clst, plst = youtube_search(search_query, max_results)"
   ]
  },
  {
   "cell_type": "code",
   "execution_count": 6,
   "metadata": {},
   "outputs": [
    {
     "name": "stdout",
     "output_type": "stream",
     "text": [
      "46 1 3\n"
     ]
    }
   ],
   "source": [
    "print len(vlst), len(clst), len(plst)"
   ]
  },
  {
   "cell_type": "code",
   "execution_count": 7,
   "metadata": {},
   "outputs": [
    {
     "name": "stdout",
     "output_type": "stream",
     "text": [
      "DEF CON 25 SE Village - Jayson Street - Strategies on Securing Your Banks and Enterprises (iLPI0EGs6kY)\n",
      "DEF CON 25 SE Village - Keith Conway, Cameron Craig - Change Agents  How to Affect  Corp. Culture (mYRXlCGMP0Q)\n",
      "DEF CON 25 SE Village - Michele Fincher - Are You Killing Your Security Program? (AZw8WugNyIQ)\n",
      "DEF CON 25 - Max Bazaliy - Jailbreaking Apple Watch (eJpbi-Qz6Jc)\n",
      "DEF CON 25 SE Village - Chris Hadnagy - SE vs Predator: Using SE In Ways I Never Thought (PNuPkpLuaws)\n",
      "DEF CON 24 - Marc Newlin - MouseJack: Injecting Keystrokes into Wireless Mice (00A36VABIA4)\n",
      "DEF CON 25 SE Village - Brent White, Tim Roberts - Skills For A Red Teamer (yJCq8ajdd0U)\n",
      "DEF CON 25 SE Village - Robert Wood  - Thematic Social Engineering (Rw0aJQnYXq0)\n",
      "DEF CON 25 -  Elie Bursztein - How We Created the First SHA 1 Collision (NbHL0SYlrSQ)\n",
      "DEF CON 24 - Chris Rock - How to Overthrow a Government (m1lhGqNCZlA)\n",
      "DEF CON 25 - Nathan Seidle - Open Source Safe Cracking Robots (v9vIcfLrmiA)\n",
      "DEF CON 25 - Garry Kasparov - The Brain's Last Stand (fp7Pq7_tHsY)\n",
      "DEF CON 25 SE Village - John Nye -The Human Factor  Why Are We So Bad at Security (MgXhjUzi_I0)\n",
      "DEF CON 24 - Weston Hecker - Hacking Next Gen ATMs From Capture to Cashout (HI6Hviqpi3A)\n",
      "DEF CON 24 SE Village - Jayson Street  - Total Fail: and Bad Mistakes,  I've Made a Few (l1OFH_H8PjQ)\n",
      "DEF CON 24 SE Village - Chris Hadnagy - 7 Jedi Mind Tricks: Influence Your Target without a Word (VFnCRVWBISY)\n",
      "DEF CON 24 SE Village - Robert Anderson - US Interrogation Techniques and SE (G_lmXqBUtZc)\n",
      "DEF CON 24 Conference - Jonathan Mayer, Panel - Meet the Feds (EPIVjqExh9s)\n",
      "DEF CON 25 - SupaFraud - Official DEF CON Teaser Video (FNtVqHaWFbU)\n",
      "DEF CON 25 - Vulc@n, Panel - The Last CTF Talk You’ll Ever Need: AMA with 20 years of CTF Organizers (MbIDrs-mB20)\n",
      "DEF CON 25 SE Village - Helen Thackray - Hackers Gonna Hack , But Do They Know Why? (TTx7mHzyX8c)\n",
      "DEF CON 23 - Chris Domas - Repsych: Psychological Warfare in Reverse Engineering (HlUe0TUHOIc)\n",
      "DEF CON 25 SE Village - Tyler Rosonke - Social Engineering With Web Analytics (3bb87rb70jU)\n",
      "DEF CON 25 SE Village - Billy Boatright -  Nor Lose The Common Touch (e_TQTDrRyWI)\n",
      "DEF CON 24 - DC101 - DEF CON 101 Panel (UGVi3ZX5IqM)\n",
      "DEF CON 23 - Social Engineering Village - Jayson E. Street - Breaking in Bad (2vdvINDmlX8)\n",
      "DEF CON 24 - Hunter Scott - RT to Win: 50 lines of Python made me the luckiest guy on Twitter (iAOOdYsK7MM)\n",
      "DefCon 25 2017 Social Engineering Village CTF - Audition Video (dCC7k4C0YMg)\n",
      "DEF CON 24 SE Village - Cyni Winegard, Bethany Ward - Human Hacking: You ARE the Weak Link (fHDxu2sgGMQ)\n",
      "DEF CON 25 SE Village - Fahey Owens - Beyond Phishing – Building & Sustaining a Corporate SE Program (VeXlppLn5H4)\n",
      "DEF CON 25 SE Village - Yaiza Rubio, Félix Brezo - Heavy Diving For Credentials (mxI_2On_fG8)\n",
      "DEF CON 25: Wireless Village - Hacker Daily Special (_T_Uj8-A0QA)\n",
      "DEF CON 23 - Social Engineering Village - Dave Kennedy - Understanding End-User Attacks (UJdxrhERDyM)\n",
      "DEF CON 24 - Joshua Drake, Steve Christey Coley - Vulnerabilities 101 (UYgBLUhHrCw)\n",
      "DEF CON 24 Conference   Hacker Jeopardy Part 1   Video and Slides (IJT0bnZXvK0)\n",
      "DEF CON 24 - Joe Grand and Zoz - BSODomizer HD: A mischievous FPGA HDMI platform (EshjrNOs2ps)\n",
      "Dual Core - Shutdown -H Now Live DEFCON 25 July 28, 2017 (OjuLV35jVKo)\n",
      "DEF CON 24 Internet of Things Village - Elvis Collado - Reversing and Exploiting Embedded Devices (r4XntiyXMnA)\n",
      "DEF CON 24 ▶︎ Jayson E. Street's Life As A Traveling Penetration Tester (npaVgQxYUbQ)\n",
      "Defcon 25 Reel Big Fish beer (1Z8oJgtyw_8)\n",
      "DEF CON 24 - JusticeBeaver - Discovering and Triangulating Rogue Cell Towers (bbDAa0syz5A)\n",
      "DEF CON 24 SE Village - James Powell  - You Are Being Manipulated (hL-6uRfoGvU)\n",
      "DEF CON 24 SE Village - Mattias Borg - SCAM CALL : Call Dropped (1zTsfs4Q6IY)\n",
      "DEF CON 22 - Jayson E. Street - Around the world in 80 cons (Fd2zPl_Re4M)\n",
      "How Tor Users Got Caught - Defcon 22 (7G1LjQSYM5Q)\n",
      "DEF CON 24 SE Village - Steven Zani - How to Un Work Your Job (7BmBiWbQO2o)\n",
      "\n",
      "DEFCONConference (UC6Om9kAkl32dWlDSNlDS9Iw)\n",
      "\n",
      "DEF CON 25 SE Village (PL9fPq3eQfaaCuXj22HWZrNcMiXPH8fkSS)\n",
      "DEF CON 25 (PL9fPq3eQfaaDOo8mTBHhEHMfuG2LNUSTC)\n",
      "defcon (PL6Fc9S2tpqKXl0zkAY_glxkbN3KtFsPA3)\n"
     ]
    }
   ],
   "source": [
    "for elem in vlst:\n",
    "    print elem\n",
    "print\n",
    "    \n",
    "for elem in clst:\n",
    "    print elem\n",
    "print\n",
    "    \n",
    "for elem in plst:\n",
    "    print elem"
   ]
  },
  {
   "cell_type": "code",
   "execution_count": 50,
   "metadata": {
    "collapsed": true
   },
   "outputs": [],
   "source": [
    "import re\n",
    "\n",
    "# convert duration string to seconds\n",
    "def duration2sec(duration_string):\n",
    "    if 'M' in duration_string and 'S' in duration_string and 'H' not in duration_string:  # remove video too long/short\n",
    "        ptn = \"PT(\\d*)M(\\d*)S\"\n",
    "        m = re.search(ptn, duration_string)\n",
    "        mins = float(m.group(1))\n",
    "        secs = float(m.group(2))\n",
    "        total_secs = mins*60 + secs\n",
    "        return total_secs\n",
    "    else:\n",
    "        return -1\n",
    "    \n",
    "\n",
    "def videos_list_by_id(**kwargs):\n",
    "    youtube = build(YOUTUBE_API_SERVICE_NAME, YOUTUBE_API_VERSION,\n",
    "        developerKey=API_KEY)\n",
    "    result = youtube.videos().list(**kwargs).execute().get('items')[0]\n",
    "\n",
    "    comment_count = result['statistics']['commentCount']\n",
    "    view_count = result['statistics']['viewCount']\n",
    "    favorite_count = result['statistics']['favoriteCount']\n",
    "    like_count = result['statistics']['likeCount']\n",
    "    description = result['snippet']['localized']['description']\n",
    "    duration = duration2sec(result['contentDetails']['duration'])\n",
    "    \n",
    "    return {'id':kwargs['id'], 'comment_count':comment_count, 'view_count':view_count, 'favorite_count':favorite_count,\n",
    "           'like_count':like_count, 'duration':duration, 'description':description}"
   ]
  },
  {
   "cell_type": "code",
   "execution_count": 51,
   "metadata": {},
   "outputs": [],
   "source": [
    "video_dct = {}\n",
    "\n",
    "idx = 0\n",
    "for elem in vlst:\n",
    "    title, vid = elem.split('(')\n",
    "    vid = vid.split(')')[0]\n",
    "    item_dct = videos_list_by_id(part='snippet,contentDetails,statistics', id=vid)\n",
    "    item_dct['title'] = title\n",
    "    video_dct[idx] = item_dct\n",
    "    idx += 1"
   ]
  },
  {
   "cell_type": "code",
   "execution_count": 52,
   "metadata": {},
   "outputs": [
    {
     "data": {
      "text/html": [
       "<div>\n",
       "<style>\n",
       "    .dataframe thead tr:only-child th {\n",
       "        text-align: right;\n",
       "    }\n",
       "\n",
       "    .dataframe thead th {\n",
       "        text-align: left;\n",
       "    }\n",
       "\n",
       "    .dataframe tbody tr th {\n",
       "        vertical-align: top;\n",
       "    }\n",
       "</style>\n",
       "<table border=\"1\" class=\"dataframe\">\n",
       "  <thead>\n",
       "    <tr style=\"text-align: right;\">\n",
       "      <th></th>\n",
       "      <th>comment_count</th>\n",
       "      <th>description</th>\n",
       "      <th>duration</th>\n",
       "      <th>favorite_count</th>\n",
       "      <th>id</th>\n",
       "      <th>like_count</th>\n",
       "      <th>title</th>\n",
       "      <th>view_count</th>\n",
       "    </tr>\n",
       "  </thead>\n",
       "  <tbody>\n",
       "    <tr>\n",
       "      <th>0</th>\n",
       "      <td>11</td>\n",
       "      <td>Most people who work on the defensive side of ...</td>\n",
       "      <td>3380.0</td>\n",
       "      <td>0</td>\n",
       "      <td>iLPI0EGs6kY</td>\n",
       "      <td>63</td>\n",
       "      <td>DEF CON 25 SE Village - Jayson Street - Strate...</td>\n",
       "      <td>1434</td>\n",
       "    </tr>\n",
       "    <tr>\n",
       "      <th>1</th>\n",
       "      <td>2</td>\n",
       "      <td>It’s no secret that trying to change corporate...</td>\n",
       "      <td>2773.0</td>\n",
       "      <td>0</td>\n",
       "      <td>mYRXlCGMP0Q</td>\n",
       "      <td>32</td>\n",
       "      <td>DEF CON 25 SE Village - Keith Conway, Cameron ...</td>\n",
       "      <td>1210</td>\n",
       "    </tr>\n",
       "    <tr>\n",
       "      <th>2</th>\n",
       "      <td>4</td>\n",
       "      <td>Michele Fincher is the Chief Influencing Agent...</td>\n",
       "      <td>1761.0</td>\n",
       "      <td>0</td>\n",
       "      <td>AZw8WugNyIQ</td>\n",
       "      <td>23</td>\n",
       "      <td>DEF CON 25 SE Village - Michele Fincher - Are ...</td>\n",
       "      <td>1031</td>\n",
       "    </tr>\n",
       "    <tr>\n",
       "      <th>3</th>\n",
       "      <td>22</td>\n",
       "      <td>On April 24, 2015, Apple launched themselves i...</td>\n",
       "      <td>2172.0</td>\n",
       "      <td>0</td>\n",
       "      <td>eJpbi-Qz6Jc</td>\n",
       "      <td>287</td>\n",
       "      <td>DEF CON 25 - Max Bazaliy - Jailbreaking Apple ...</td>\n",
       "      <td>28067</td>\n",
       "    </tr>\n",
       "    <tr>\n",
       "      <th>4</th>\n",
       "      <td>19</td>\n",
       "      <td>When I started my path down becoming a profess...</td>\n",
       "      <td>3135.0</td>\n",
       "      <td>0</td>\n",
       "      <td>PNuPkpLuaws</td>\n",
       "      <td>75</td>\n",
       "      <td>DEF CON 25 SE Village - Chris Hadnagy - SE vs ...</td>\n",
       "      <td>1706</td>\n",
       "    </tr>\n",
       "  </tbody>\n",
       "</table>\n",
       "</div>"
      ],
      "text/plain": [
       "  comment_count                                        description  duration  \\\n",
       "0            11  Most people who work on the defensive side of ...    3380.0   \n",
       "1             2  It’s no secret that trying to change corporate...    2773.0   \n",
       "2             4  Michele Fincher is the Chief Influencing Agent...    1761.0   \n",
       "3            22  On April 24, 2015, Apple launched themselves i...    2172.0   \n",
       "4            19  When I started my path down becoming a profess...    3135.0   \n",
       "\n",
       "  favorite_count           id like_count  \\\n",
       "0              0  iLPI0EGs6kY         63   \n",
       "1              0  mYRXlCGMP0Q         32   \n",
       "2              0  AZw8WugNyIQ         23   \n",
       "3              0  eJpbi-Qz6Jc        287   \n",
       "4              0  PNuPkpLuaws         75   \n",
       "\n",
       "                                               title view_count  \n",
       "0  DEF CON 25 SE Village - Jayson Street - Strate...       1434  \n",
       "1  DEF CON 25 SE Village - Keith Conway, Cameron ...       1210  \n",
       "2  DEF CON 25 SE Village - Michele Fincher - Are ...       1031  \n",
       "3  DEF CON 25 - Max Bazaliy - Jailbreaking Apple ...      28067  \n",
       "4  DEF CON 25 SE Village - Chris Hadnagy - SE vs ...       1706  "
      ]
     },
     "execution_count": 52,
     "metadata": {},
     "output_type": "execute_result"
    }
   ],
   "source": [
    "df = pd.DataFrame(video_dct.values())\n",
    "df.head()"
   ]
  },
  {
   "cell_type": "code",
   "execution_count": 53,
   "metadata": {
    "collapsed": true
   },
   "outputs": [],
   "source": [
    "from pulp import *"
   ]
  },
  {
   "cell_type": "code",
   "execution_count": 54,
   "metadata": {},
   "outputs": [
    {
     "name": "stdout",
     "output_type": "stream",
     "text": [
      "Select_DEF_CON_videos:\n",
      "MINIMIZE\n",
      "None\n",
      "VARIABLES\n",
      "\n"
     ]
    }
   ],
   "source": [
    "# Step 1 - Define the problem\n",
    "\n",
    "prob = pulp.LpProblem('Select_DEF_CON_videos', pulp.LpMinimize)\n",
    "print prob"
   ]
  },
  {
   "cell_type": "code",
   "execution_count": 60,
   "metadata": {},
   "outputs": [
    {
     "name": "stdout",
     "output_type": "stream",
     "text": [
      "46\n",
      "iLPI0EGs6kY\n"
     ]
    }
   ],
   "source": [
    "# Step 2 - Create Decision Variables\n",
    "## Here, each video is a decision variabe with value 0 or 1, indicating select or not\n",
    "\n",
    "decision_vars = []\n",
    "\n",
    "for vid in df['id']:\n",
    "    video_var = pulp.LpVariable(vid, lowBound = 0, upBound = 1, cat = 'Integer')  # make it as binary variable\n",
    "    decision_vars.append(video_var)\n",
    "    \n",
    "print len(decision_vars)\n",
    "print decision_vars[0]"
   ]
  },
  {
   "cell_type": "code",
   "execution_count": 70,
   "metadata": {},
   "outputs": [],
   "source": [
    "# Step 3 - Define Objective Function\n",
    "## Here, I want to choose those with larger likes/views\n",
    "## namely, smaller int(round(views/likes)), since here requires integer\n",
    "\n",
    "total_view2likes = ''\n",
    "\n",
    "for ridx, r in df.iterrows():\n",
    "    for i in range(len(decision_vars)):\n",
    "        if ridx == i:\n",
    "            views = float(r['view_count'])\n",
    "            likes = float(r['like_count'])+0.0001  # in case it's 0\n",
    "            view2likes = int(round(views/likes))\n",
    "            formula = view2likes*decision_vars[i]  # Here, it's different from int*str, you can try to print out\n",
    "            total_view2likes += formula\n",
    "prob += total_view2likes"
   ]
  }
 ],
 "metadata": {
  "kernelspec": {
   "display_name": "Python 2",
   "language": "python",
   "name": "python2"
  },
  "language_info": {
   "codemirror_mode": {
    "name": "ipython",
    "version": 2
   },
   "file_extension": ".py",
   "mimetype": "text/x-python",
   "name": "python",
   "nbconvert_exporter": "python",
   "pygments_lexer": "ipython2",
   "version": "2.7.13"
  }
 },
 "nbformat": 4,
 "nbformat_minor": 2
}
